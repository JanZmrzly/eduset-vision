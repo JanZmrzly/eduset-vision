{
 "cells": [
  {
   "cell_type": "code",
   "execution_count": 1,
   "id": "initial_id",
   "metadata": {
    "collapsed": true,
    "ExecuteTime": {
     "end_time": "2024-02-21T10:31:46.297651400Z",
     "start_time": "2024-02-21T10:31:44.501296100Z"
    }
   },
   "outputs": [],
   "source": [
    "from eduset.ssd.video import VideoPredictor\n",
    "\n",
    "import json"
   ]
  },
  {
   "cell_type": "code",
   "execution_count": 2,
   "outputs": [
    {
     "name": "stdout",
     "output_type": "stream",
     "text": [
      "Model switched to cuda\n"
     ]
    }
   ],
   "source": [
    "with open('../eduset/ssd/config.json', 'r') as file:\n",
    "    data = json.load(file)\n",
    "\n",
    "video_to_test = \"../samples/Eduset-One-Dataset-1/test/test.mp4\"\n",
    "classes = data[\"config\"][\"CLASSES\"]\n",
    "\n",
    "predictor = VideoPredictor(input_path=video_to_test,\n",
    "                           output_path=\"../samples/ssd_runs/videos\",\n",
    "                           classes=classes,\n",
    "                           num_classes=4)\n",
    "\n",
    "predictor.load(model_path=\"../samples/ssd_runs/model/ssd_model.pth\")"
   ],
   "metadata": {
    "collapsed": false,
    "ExecuteTime": {
     "end_time": "2024-02-21T10:31:48.922049100Z",
     "start_time": "2024-02-21T10:31:46.301702400Z"
    }
   },
   "id": "14e0d981a1b00867"
  },
  {
   "cell_type": "code",
   "execution_count": 3,
   "outputs": [
    {
     "name": "stdout",
     "output_type": "stream",
     "text": [
      "Video to test: test loaded SUCCESSFULLY\n"
     ]
    },
    {
     "name": "stderr",
     "output_type": "stream",
     "text": [
      "Processing video frames: 100%|██████████| 4285/4285 [01:33<00:00, 45.59frame/s]\n"
     ]
    }
   ],
   "source": [
    "classes_vis = {0: {\"name\": \"__background__\", \"color\": (0, 0, 0)},\n",
    "               1: {\"name\": \"circle\", \"color\": (255, 0, 0)},\n",
    "               2: {\"name\": \"square\", \"color\": (0, 255, 0)}, \n",
    "               3: {\"name\": \"triangle\", \"color\": (0, 0, 255)}}\n",
    "\n",
    "predictor.video_predict(classes_vis, plot=True, save=True)"
   ],
   "metadata": {
    "collapsed": false,
    "ExecuteTime": {
     "end_time": "2024-02-21T10:33:22.931805400Z",
     "start_time": "2024-02-21T10:31:48.922049100Z"
    }
   },
   "id": "317e4cd1043e3093"
  },
  {
   "cell_type": "code",
   "execution_count": 3,
   "outputs": [],
   "source": [],
   "metadata": {
    "collapsed": false,
    "ExecuteTime": {
     "end_time": "2024-02-21T10:33:22.934804700Z",
     "start_time": "2024-02-21T10:33:22.933803Z"
    }
   },
   "id": "3e0ce55becae206d"
  }
 ],
 "metadata": {
  "kernelspec": {
   "display_name": "Python 3",
   "language": "python",
   "name": "python3"
  },
  "language_info": {
   "codemirror_mode": {
    "name": "ipython",
    "version": 2
   },
   "file_extension": ".py",
   "mimetype": "text/x-python",
   "name": "python",
   "nbconvert_exporter": "python",
   "pygments_lexer": "ipython2",
   "version": "2.7.6"
  }
 },
 "nbformat": 4,
 "nbformat_minor": 5
}
