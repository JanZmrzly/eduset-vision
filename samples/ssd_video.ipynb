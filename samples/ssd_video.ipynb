{
 "cells": [
  {
   "cell_type": "code",
   "execution_count": 1,
   "id": "initial_id",
   "metadata": {
    "collapsed": true,
    "ExecuteTime": {
     "end_time": "2024-02-23T10:21:33.856148200Z",
     "start_time": "2024-02-23T10:21:31.896239Z"
    }
   },
   "outputs": [],
   "source": [
    "from eduset.ssd.video import VideoPredictor\n",
    "\n",
    "import json"
   ]
  },
  {
   "cell_type": "code",
   "execution_count": 2,
   "outputs": [
    {
     "name": "stdout",
     "output_type": "stream",
     "text": [
      "Model switched to cuda\n"
     ]
    }
   ],
   "source": [
    "with open('../eduset/ssd/config.json', 'r') as file:\n",
    "    data = json.load(file)\n",
    "\n",
    "video_to_test = \"../samples/images/video.mp4\"\n",
    "classes =  [data[\"config\"][\"CLASSES\"][str(i)][\"name\"] for i in range(data[\"config\"][\"NUM_CLASSES\"])]\n",
    "\n",
    "predictor = VideoPredictor(input_path=video_to_test,\n",
    "                           output_path=\"../samples/ssd_runs/videos\",\n",
    "                           classes=classes,\n",
    "                           num_classes=4)\n",
    "\n",
    "predictor.load(model_path=\"../samples/ssd_runs/model/ssd_model.pth\")"
   ],
   "metadata": {
    "collapsed": false,
    "ExecuteTime": {
     "end_time": "2024-02-23T10:21:36.382640900Z",
     "start_time": "2024-02-23T10:21:33.857670800Z"
    }
   },
   "id": "14e0d981a1b00867"
  },
  {
   "cell_type": "code",
   "execution_count": 3,
   "outputs": [
    {
     "name": "stdout",
     "output_type": "stream",
     "text": [
      "Video to test: video loaded SUCCESSFULLY\n"
     ]
    },
    {
     "name": "stderr",
     "output_type": "stream",
     "text": [
      "Processing video frames: 100%|██████████| 4285/4285 [01:35<00:00, 44.99frame/s]\n"
     ]
    }
   ],
   "source": [
    "classes_vis = data[\"config\"][\"CLASSES\"]\n",
    "\n",
    "predictor.video_predict(classes_vis, plot=True, save=True)"
   ],
   "metadata": {
    "collapsed": false,
    "ExecuteTime": {
     "end_time": "2024-02-23T10:23:11.641177Z",
     "start_time": "2024-02-23T10:21:36.382640900Z"
    }
   },
   "id": "317e4cd1043e3093"
  },
  {
   "cell_type": "code",
   "execution_count": 3,
   "outputs": [],
   "source": [],
   "metadata": {
    "collapsed": false,
    "ExecuteTime": {
     "end_time": "2024-02-23T10:23:11.644686900Z",
     "start_time": "2024-02-23T10:23:11.643679700Z"
    }
   },
   "id": "3e0ce55becae206d"
  }
 ],
 "metadata": {
  "kernelspec": {
   "display_name": "Python 3",
   "language": "python",
   "name": "python3"
  },
  "language_info": {
   "codemirror_mode": {
    "name": "ipython",
    "version": 2
   },
   "file_extension": ".py",
   "mimetype": "text/x-python",
   "name": "python",
   "nbconvert_exporter": "python",
   "pygments_lexer": "ipython2",
   "version": "2.7.6"
  }
 },
 "nbformat": 4,
 "nbformat_minor": 5
}
