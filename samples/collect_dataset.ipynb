{
 "cells": [
  {
   "cell_type": "code",
   "execution_count": 8,
   "id": "initial_id",
   "metadata": {
    "collapsed": true,
    "ExecuteTime": {
     "end_time": "2024-02-12T17:32:28.866214400Z",
     "start_time": "2024-02-12T17:32:28.864708500Z"
    }
   },
   "outputs": [],
   "source": [
    "from eduset.utils.camera import get_devices, connect, disconnect, preview_continuous\n",
    "from eduset.utils.dataset import collect_dataset"
   ]
  },
  {
   "cell_type": "code",
   "execution_count": 9,
   "outputs": [
    {
     "name": "stdout",
     "output_type": "stream",
     "text": [
      "Model name\t\tSerial number\n"
     ]
    }
   ],
   "source": [
    "devices = get_devices()"
   ],
   "metadata": {
    "collapsed": false,
    "ExecuteTime": {
     "end_time": "2024-02-12T17:32:30.002385Z",
     "start_time": "2024-02-12T17:32:29.709952900Z"
    }
   },
   "id": "1f9350a589cec622"
  },
  {
   "cell_type": "code",
   "execution_count": 10,
   "outputs": [
    {
     "ename": "IndexError",
     "evalue": "tuple index out of range",
     "output_type": "error",
     "traceback": [
      "\u001B[0;31m---------------------------------------------------------------------------\u001B[0m",
      "\u001B[0;31mIndexError\u001B[0m                                Traceback (most recent call last)",
      "Cell \u001B[0;32mIn[10], line 1\u001B[0m\n\u001B[0;32m----> 1\u001B[0m cam \u001B[38;5;241m=\u001B[39m \u001B[43mconnect\u001B[49m\u001B[43m(\u001B[49m\u001B[38;5;241;43m0\u001B[39;49m\u001B[43m)\u001B[49m\n",
      "File \u001B[0;32m/mnt/c/Users/zmrzl/PycharmProjects/object-detection/eduset/camera.py:30\u001B[0m, in \u001B[0;36mconnect\u001B[0;34m(device)\u001B[0m\n\u001B[1;32m     28\u001B[0m tlf \u001B[38;5;241m=\u001B[39m pylon\u001B[38;5;241m.\u001B[39mTlFactory\u001B[38;5;241m.\u001B[39mGetInstance()\n\u001B[1;32m     29\u001B[0m devices \u001B[38;5;241m=\u001B[39m tlf\u001B[38;5;241m.\u001B[39mEnumerateDevices()\n\u001B[0;32m---> 30\u001B[0m cam \u001B[38;5;241m=\u001B[39m pylon\u001B[38;5;241m.\u001B[39mInstantCamera(tlf\u001B[38;5;241m.\u001B[39mCreateDevice(\u001B[43mdevices\u001B[49m\u001B[43m[\u001B[49m\u001B[43mdevice\u001B[49m\u001B[43m]\u001B[49m))\n\u001B[1;32m     31\u001B[0m cam\u001B[38;5;241m.\u001B[39mOpen()\n\u001B[1;32m     32\u001B[0m \u001B[38;5;28mprint\u001B[39m(\u001B[38;5;124mf\u001B[39m\u001B[38;5;124m\"\u001B[39m\u001B[38;5;124mSuccessfully connected to \u001B[39m\u001B[38;5;132;01m{\u001B[39;00mdevices[device]\u001B[38;5;241m.\u001B[39mGetModelName()\u001B[38;5;132;01m}\u001B[39;00m\u001B[38;5;124m\"\u001B[39m)\n",
      "\u001B[0;31mIndexError\u001B[0m: tuple index out of range"
     ]
    }
   ],
   "source": [
    "cam = connect(0)"
   ],
   "metadata": {
    "collapsed": false,
    "ExecuteTime": {
     "end_time": "2024-02-12T17:32:31.844649600Z",
     "start_time": "2024-02-12T17:32:31.574614100Z"
    }
   },
   "id": "3485eb083903ba0b"
  },
  {
   "cell_type": "code",
   "execution_count": 4,
   "outputs": [
    {
     "name": "stdout",
     "output_type": "stream",
     "text": [
      "Error:  31\n",
      "Error:  31\n",
      "Error:  31\n",
      "Error:  31\n",
      "Error:  31\n",
      "Error:  31\n",
      "Error:  31\n",
      "Error:  31\n",
      "Error:  31\n",
      "Error:  31\n",
      "Error:  31\n",
      "Error:  31\n",
      "Error:  31\n",
      "Error:  31\n",
      "Error:  31\n",
      "Error:  31\n",
      "Error:  31\n",
      "Error:  31\n",
      "Error:  31\n",
      "Error:  31\n",
      "Error:  31\n",
      "Error:  31\n",
      "Error:  31\n",
      "Error:  31\n",
      "Error:  31\n",
      "Error:  31\n",
      "Error:  31\n",
      "Error:  31\n",
      "Error:  31\n",
      "Error:  31\n",
      "Error:  31\n",
      "Error:  31\n",
      "Error:  31\n",
      "Error:  31\n",
      "Error:  31\n",
      "Error:  31\n",
      "Error:  31\n",
      "Error:  31\n",
      "Error:  31\n",
      "Error:  31\n",
      "Error:  31\n",
      "Error:  31\n",
      "Error:  31\n",
      "Error:  31\n",
      "Error:  31\n",
      "Error:  31\n",
      "Error:  31\n",
      "Error:  31\n",
      "Error:  31\n",
      "Error:  31\n",
      "Error:  31\n",
      "Error:  31\n",
      "Error:  31\n",
      "Error:  31\n",
      "Error:  31\n",
      "Error:  31\n",
      "Error:  31\n",
      "Error:  31\n",
      "Error:  31\n",
      "Error:  31\n",
      "Error:  31\n",
      "Error:  31\n",
      "Error:  31\n",
      "Error:  31\n",
      "Error:  31\n",
      "Error:  31\n",
      "Error:  31\n",
      "Error:  31\n",
      "Error:  31\n",
      "Error:  31\n",
      "Error:  31\n",
      "Error:  31\n",
      "Error:  31\n",
      "Error:  31\n",
      "Error:  31\n",
      "Error:  31\n",
      "Error:  31\n",
      "Error:  31\n",
      "Error:  31\n",
      "Error:  31\n",
      "Error:  31\n",
      "Error:  31\n",
      "Error:  31\n",
      "Error:  31\n",
      "Error:  31\n",
      "Error:  31\n",
      "Error:  31\n",
      "Error:  31\n",
      "Error:  31\n",
      "Error:  31\n",
      "Error:  31\n",
      "Error:  31\n",
      "Error:  31\n",
      "Error:  31\n",
      "Error:  31\n",
      "Error:  31\n",
      "Error:  31\n",
      "Error:  31\n",
      "Error:  31\n",
      "Error:  31\n",
      "Error:  31\n",
      "Error:  31\n",
      "Error:  31\n",
      "Error:  31\n",
      "Error:  31\n",
      "Error:  31\n",
      "Error:  31\n",
      "Error:  31\n",
      "Error:  31\n",
      "Error:  31\n",
      "Error:  31\n",
      "Error:  31\n",
      "Error:  31\n",
      "Error:  31\n",
      "Error:  31\n",
      "Error:  31\n",
      "Error:  31\n",
      "Error:  31\n",
      "Error:  31\n",
      "Error:  31\n",
      "Error:  31\n",
      "Error:  31\n",
      "Error:  31\n",
      "Error:  31\n",
      "Error:  31\n"
     ]
    }
   ],
   "source": [
    "preview_continuous(cam)"
   ],
   "metadata": {
    "collapsed": false,
    "ExecuteTime": {
     "end_time": "2024-02-10T09:37:14.263109Z",
     "start_time": "2024-02-10T09:35:09.488500300Z"
    }
   },
   "id": "f30acbb7465842e6"
  },
  {
   "cell_type": "markdown",
   "source": [],
   "metadata": {
    "collapsed": false
   },
   "id": "d348d2401f4cc0f"
  },
  {
   "cell_type": "code",
   "execution_count": 4,
   "outputs": [
    {
     "name": "stdout",
     "output_type": "stream",
     "text": [
      "Dataset was created successfully - path:\tC:/Users/zmrzl/OneDrive/Desktop/DS00\n"
     ]
    }
   ],
   "source": [
    "path = \"C:/Users/zmrzl/OneDrive/Desktop/DS00\"\n",
    "count = 5\n",
    "period = 1 # [s]\n",
    "collect_dataset(cam, path, count, period)"
   ],
   "metadata": {
    "collapsed": false
   },
   "id": "234881ebc3421470"
  },
  {
   "cell_type": "code",
   "execution_count": 5,
   "outputs": [
    {
     "name": "stdout",
     "output_type": "stream",
     "text": [
      "Successfully disconnected\n"
     ]
    }
   ],
   "source": [
    "disconnect(cam)"
   ],
   "metadata": {
    "collapsed": false,
    "ExecuteTime": {
     "end_time": "2024-02-10T09:54:02.982105Z",
     "start_time": "2024-02-10T09:54:02.972907800Z"
    }
   },
   "id": "f70ca3fd6033457b"
  }
 ],
 "metadata": {
  "kernelspec": {
   "display_name": "Python 3",
   "language": "python",
   "name": "python3"
  },
  "language_info": {
   "codemirror_mode": {
    "name": "ipython",
    "version": 2
   },
   "file_extension": ".py",
   "mimetype": "text/x-python",
   "name": "python",
   "nbconvert_exporter": "python",
   "pygments_lexer": "ipython2",
   "version": "2.7.6"
  }
 },
 "nbformat": 4,
 "nbformat_minor": 5
}
