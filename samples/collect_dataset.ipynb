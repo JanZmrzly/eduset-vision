{
 "cells": [
  {
   "cell_type": "code",
   "execution_count": 8,
   "id": "initial_id",
   "metadata": {
    "collapsed": true,
    "ExecuteTime": {
     "end_time": "2024-02-05T10:37:18.489880400Z",
     "start_time": "2024-02-05T10:37:18.484354500Z"
    }
   },
   "outputs": [],
   "source": [
    "from eduset.camera import get_devices, connect, disconnect, preview_continuous\n",
    "from eduset.dataset import collect_dataset"
   ]
  },
  {
   "cell_type": "code",
   "execution_count": 2,
   "outputs": [
    {
     "name": "stdout",
     "output_type": "stream",
     "text": [
      "Model name\t\tSerial number\n",
      "acA2500-60um\t40037242\n",
      "Emulation\t0815-0000\n",
      "Emulation\t0815-0001\n"
     ]
    }
   ],
   "source": [
    "devices = get_devices()"
   ],
   "metadata": {
    "collapsed": false,
    "ExecuteTime": {
     "end_time": "2024-02-05T10:35:18.704384600Z",
     "start_time": "2024-02-05T10:35:18.372816500Z"
    }
   },
   "id": "1f9350a589cec622"
  },
  {
   "cell_type": "code",
   "execution_count": 3,
   "outputs": [
    {
     "name": "stdout",
     "output_type": "stream",
     "text": [
      "Successfully connected to acA2500-60um\n",
      "Camera was set to Default\n"
     ]
    }
   ],
   "source": [
    "cam = connect(0)"
   ],
   "metadata": {
    "collapsed": false
   },
   "id": "3485eb083903ba0b"
  },
  {
   "cell_type": "code",
   "execution_count": 5,
   "outputs": [],
   "source": [
    "preview_continuous(cam)"
   ],
   "metadata": {
    "collapsed": false,
    "ExecuteTime": {
     "end_time": "2024-02-05T10:35:34.317743300Z",
     "start_time": "2024-02-05T10:35:19.235962700Z"
    }
   },
   "id": "f30acbb7465842e6"
  },
  {
   "cell_type": "markdown",
   "source": [],
   "metadata": {
    "collapsed": false
   },
   "id": "d348d2401f4cc0f"
  },
  {
   "cell_type": "code",
   "execution_count": 6,
   "outputs": [
    {
     "name": "stdout",
     "output_type": "stream",
     "text": [
      "Dataset was created successfully - path:\tC:/Users/zmrzl/OneDrive/Desktop/DS\n"
     ]
    }
   ],
   "source": [
    "path = \"C:/Users/zmrzl/OneDrive/Desktop/DS\"\n",
    "count = 4\n",
    "period = 3 # [s]\n",
    "collect_dataset(cam, path, count, period)"
   ],
   "metadata": {
    "collapsed": false
   },
   "id": "234881ebc3421470"
  },
  {
   "cell_type": "code",
   "execution_count": 9,
   "outputs": [
    {
     "name": "stdout",
     "output_type": "stream",
     "text": [
      "Successfully disconnected\n"
     ]
    }
   ],
   "source": [
    "disconnect(cam)"
   ],
   "metadata": {
    "collapsed": false,
    "ExecuteTime": {
     "end_time": "2024-02-05T10:37:23.089251700Z",
     "start_time": "2024-02-05T10:37:23.086725400Z"
    }
   },
   "id": "f70ca3fd6033457b"
  },
  {
   "cell_type": "code",
   "execution_count": null,
   "outputs": [],
   "source": [],
   "metadata": {
    "collapsed": false
   },
   "id": "6af1feab98ce747a"
  }
 ],
 "metadata": {
  "kernelspec": {
   "display_name": "Python 3",
   "language": "python",
   "name": "python3"
  },
  "language_info": {
   "codemirror_mode": {
    "name": "ipython",
    "version": 2
   },
   "file_extension": ".py",
   "mimetype": "text/x-python",
   "name": "python",
   "nbconvert_exporter": "python",
   "pygments_lexer": "ipython2",
   "version": "2.7.6"
  }
 },
 "nbformat": 4,
 "nbformat_minor": 5
}
