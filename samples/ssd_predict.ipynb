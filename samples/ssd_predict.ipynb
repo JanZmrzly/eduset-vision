{
 "cells": [
  {
   "cell_type": "code",
   "execution_count": 1,
   "id": "initial_id",
   "metadata": {
    "collapsed": true,
    "ExecuteTime": {
     "end_time": "2024-02-23T10:20:02.902570200Z",
     "start_time": "2024-02-23T10:20:00.853399100Z"
    }
   },
   "outputs": [],
   "source": [
    "from eduset.ssd.predict import Predictor\n",
    "\n",
    "import json"
   ]
  },
  {
   "cell_type": "code",
   "execution_count": 2,
   "outputs": [
    {
     "name": "stdout",
     "output_type": "stream",
     "text": [
      "Model switched to cuda\n"
     ]
    }
   ],
   "source": [
    "with open('../eduset/ssd/config.json', 'r') as file:\n",
    "    data = json.load(file)\n",
    "\n",
    "images_to_test = \"../samples/Eduset-One-Dataset-1/test\"\n",
    "classes = [data[\"config\"][\"CLASSES\"][str(i)][\"name\"] for i in range(data[\"config\"][\"NUM_CLASSES\"])]\n",
    "\n",
    "predictor = Predictor(input_path=images_to_test,\n",
    "                      output_path=\"../samples/ssd_runs/images\",\n",
    "                      classes=classes,\n",
    "                      num_classes=4)\n",
    "\n",
    "predictor.load(model_path=\"../samples/ssd_runs/model/ssd_model.pth\")"
   ],
   "metadata": {
    "collapsed": false,
    "ExecuteTime": {
     "end_time": "2024-02-23T10:20:05.509857200Z",
     "start_time": "2024-02-23T10:20:02.902570200Z"
    }
   },
   "id": "785a3274148f2728"
  },
  {
   "cell_type": "code",
   "execution_count": 3,
   "outputs": [
    {
     "name": "stdout",
     "output_type": "stream",
     "text": [
      "Images to test: 21 loaded SUCCESSFULLY\n",
      "\n",
      "\n",
      "Image #0\tValidating image 10_png.rf.76498124ab1ca7c2ffcec41c4d4071bd.jpg\n",
      "Plot is disabled\n",
      "10_png.rf.76498124ab1ca7c2ffcec41c4d4071bd.jpg was saved to ../samples/ssd_runs/images\n",
      "\n",
      "\n",
      "Image #1\tValidating image 10_png.rf.ca2fbc3a9922a4a6ff2f61321dac70a5.jpg\n",
      "Plot is disabled\n",
      "10_png.rf.ca2fbc3a9922a4a6ff2f61321dac70a5.jpg was saved to ../samples/ssd_runs/images\n",
      "\n",
      "\n",
      "Image #2\tValidating image 13_png.rf.c8d23eef8dce0e5c8ab25c9dcc017ee0.jpg\n",
      "Plot is disabled\n",
      "13_png.rf.c8d23eef8dce0e5c8ab25c9dcc017ee0.jpg was saved to ../samples/ssd_runs/images\n",
      "\n",
      "\n",
      "Image #3\tValidating image 1_png.rf.1bce74a68d493a1faceb48bac487d584.jpg\n",
      "Plot is disabled\n",
      "1_png.rf.1bce74a68d493a1faceb48bac487d584.jpg was saved to ../samples/ssd_runs/images\n",
      "\n",
      "\n",
      "Image #4\tValidating image 1_png.rf.ab4c90336403e93a6eeffed6a50e6015.jpg\n",
      "Plot is disabled\n",
      "1_png.rf.ab4c90336403e93a6eeffed6a50e6015.jpg was saved to ../samples/ssd_runs/images\n",
      "\n",
      "\n",
      "Image #5\tValidating image 1_png.rf.e9559e3c47f7dc6c1ae32a541cf39fc7.jpg\n",
      "Plot is disabled\n",
      "1_png.rf.e9559e3c47f7dc6c1ae32a541cf39fc7.jpg was saved to ../samples/ssd_runs/images\n",
      "\n",
      "\n",
      "Image #6\tValidating image 2_png.rf.86b11fd4ee6382ea165ec5f6a2bedaec.jpg\n",
      "Plot is disabled\n",
      "2_png.rf.86b11fd4ee6382ea165ec5f6a2bedaec.jpg was saved to ../samples/ssd_runs/images\n",
      "\n",
      "\n",
      "Image #7\tValidating image 3_png.rf.5545dccde2f419cd8371e1b6369535e0.jpg\n",
      "Plot is disabled\n",
      "3_png.rf.5545dccde2f419cd8371e1b6369535e0.jpg was saved to ../samples/ssd_runs/images\n",
      "\n",
      "\n",
      "Image #8\tValidating image 5_png.rf.ff56a0f5ddfd91095e239608637b3683.jpg\n",
      "Plot is disabled\n",
      "5_png.rf.ff56a0f5ddfd91095e239608637b3683.jpg was saved to ../samples/ssd_runs/images\n",
      "\n",
      "\n",
      "Image #9\tValidating image 6_png.rf.1c04466e0241112fc31f12771b55f746.jpg\n",
      "Plot is disabled\n",
      "6_png.rf.1c04466e0241112fc31f12771b55f746.jpg was saved to ../samples/ssd_runs/images\n",
      "\n",
      "\n",
      "Image #10\tValidating image 6_png.rf.44c5b2da12beb2e572c99f94dccd438c.jpg\n",
      "Plot is disabled\n",
      "6_png.rf.44c5b2da12beb2e572c99f94dccd438c.jpg was saved to ../samples/ssd_runs/images\n",
      "\n",
      "\n",
      "Image #11\tValidating image 6_png.rf.9e070807a69902b30c873e07e92fc299.jpg\n",
      "Plot is disabled\n",
      "6_png.rf.9e070807a69902b30c873e07e92fc299.jpg was saved to ../samples/ssd_runs/images\n",
      "\n",
      "\n",
      "Image #12\tValidating image 6_png.rf.b85c454dfd4f175b20a0483cb8eb0e38.jpg\n",
      "Plot is disabled\n",
      "6_png.rf.b85c454dfd4f175b20a0483cb8eb0e38.jpg was saved to ../samples/ssd_runs/images\n",
      "\n",
      "\n",
      "Image #13\tValidating image 6_png.rf.f96d13c3f3ab97ce706e8aebc9bcef87.jpg\n",
      "Plot is disabled\n",
      "6_png.rf.f96d13c3f3ab97ce706e8aebc9bcef87.jpg was saved to ../samples/ssd_runs/images\n",
      "\n",
      "\n",
      "Image #14\tValidating image 7.jpg\n",
      "Plot is disabled\n",
      "7.jpg was saved to ../samples/ssd_runs/images\n",
      "\n",
      "\n",
      "Image #15\tValidating image 7_png.rf.1051a8d66974a29cadaa07e9c0276bfa.jpg\n",
      "Plot is disabled\n",
      "7_png.rf.1051a8d66974a29cadaa07e9c0276bfa.jpg was saved to ../samples/ssd_runs/images\n",
      "\n",
      "\n",
      "Image #16\tValidating image 7_png.rf.efe05eee831fc95a13e883e8e118e37c.jpg\n",
      "Plot is disabled\n",
      "7_png.rf.efe05eee831fc95a13e883e8e118e37c.jpg was saved to ../samples/ssd_runs/images\n",
      "\n",
      "\n",
      "Image #17\tValidating image 8_png.rf.2a54f3cc5756a29e6f799d18f9bf90db.jpg\n",
      "Plot is disabled\n",
      "8_png.rf.2a54f3cc5756a29e6f799d18f9bf90db.jpg was saved to ../samples/ssd_runs/images\n",
      "\n",
      "\n",
      "Image #18\tValidating image 8_png.rf.4ad879f972126ae842fb4b9b585f94cf.jpg\n",
      "Plot is disabled\n",
      "8_png.rf.4ad879f972126ae842fb4b9b585f94cf.jpg was saved to ../samples/ssd_runs/images\n",
      "\n",
      "\n",
      "Image #19\tValidating image 9_png.rf.1fe0321fee6a792705107d00248326dd.jpg\n",
      "Plot is disabled\n",
      "9_png.rf.1fe0321fee6a792705107d00248326dd.jpg was saved to ../samples/ssd_runs/images\n",
      "\n",
      "\n",
      "Image #20\tValidating image train_img.jpg\n",
      "Plot is disabled\n",
      "train_img.jpg was saved to ../samples/ssd_runs/images\n"
     ]
    }
   ],
   "source": [
    "classes_vis = data[\"config\"][\"CLASSES\"]\n",
    "\n",
    "predictor.predict(classes_vis, plot=False, save=True)"
   ],
   "metadata": {
    "collapsed": false,
    "ExecuteTime": {
     "end_time": "2024-02-23T10:20:06.523896600Z",
     "start_time": "2024-02-23T10:20:05.509857200Z"
    }
   },
   "id": "1b35ab49de2bf3eb"
  },
  {
   "cell_type": "code",
   "execution_count": 3,
   "outputs": [],
   "source": [],
   "metadata": {
    "collapsed": false,
    "ExecuteTime": {
     "end_time": "2024-02-23T10:20:06.563085400Z",
     "start_time": "2024-02-23T10:20:06.521897900Z"
    }
   },
   "id": "958d83b1c7fb7edf"
  }
 ],
 "metadata": {
  "kernelspec": {
   "display_name": "Python 3",
   "language": "python",
   "name": "python3"
  },
  "language_info": {
   "codemirror_mode": {
    "name": "ipython",
    "version": 2
   },
   "file_extension": ".py",
   "mimetype": "text/x-python",
   "name": "python",
   "nbconvert_exporter": "python",
   "pygments_lexer": "ipython2",
   "version": "2.7.6"
  }
 },
 "nbformat": 4,
 "nbformat_minor": 5
}
